{
 "cells": [
  {
   "cell_type": "markdown",
   "metadata": {},
   "source": [
    "# Training example, the 2018 Mw7.5 Palu, Sulawesi earthquake\n",
    "\n",
    "This is a coarse version of the complex 3D dynamic rupture model published in [Ulrich et al., 2019](https://link.springer.com/article/10.1007/s00024-019-02290-5).\n",
    "\n",
    "The published high-resolution model setup is available at [zenodo](https://zenodo.org/record/3234664#.YVFmIi8Ro6h). \n",
    "\n",
    "This earthquake scenario, featuring sustained supershear rupture propagation, matches key earthquake observational data, including its moment magnitude, rupture duration, fault plane solution, teleseismic waveforms and inferred horizontal ground displacements. The applied remote stress regime reflecting regional transtension, produces a combination of up to 6 m left-lateral slip and up to 2 m normal slip on the straight fault segment dipping 65 degree East beneath Palu Bay. We will model left-lateral, dominantly strike-slip faulting on bend, connected fault segments. \n",
    "![](Ulrich19_Fig1.png)\n",
    "*Tectonic setting of the September 28, 2018 Mw 7.5 Sulawesi\n",
    "earthquake (epicenter indicated by yellow star). Black lines indicate plate boundaries based on Bird (2003); Socquet et al. (2006); Argus et al. (2011). BH Bird’s Head plate, BS Banda Sea plate, MF Matano fault zone, PKF Palu-Koro fault zone, MS Molucca Sea plate, SSF Sula-Sorong fault zone, TI Timor plate. Arrows indicate the far-field plate velocities with respect to Eurasia (Socquet et al. 2006). The black box corresponds to the region displayed in b. b A zoom of the region of interest. The site of the harbor tide gauge of Pantoloan is indicated as well as the city of Palu. Locations of the GPS stations at which we provide synthetic ground displacement time series (see Appendix 7.2) are indicated by the red triangles. Focal mechanisms and epicenters of the September 28, 2018 Palu earthquake (USGS (2018a), top), October 1, 2018 Palu aftershock (middle), and January 23, 2005 Sulawesi earthquake (bottom) are shown. These later two events provide constraints on the dip angles of individual segments of the fault network. Individual fault segments of the Palu-Koro fault used in the dynamic rupture model are coloured. c, d, e 3D model of the fault network viewed from top, SW and S*\n"
   ]
  },
  {
   "cell_type": "markdown",
   "metadata": {},
   "source": [
    "## Mesh\n",
    "\n",
    "To build 3D models with complicated geometries beyond gmsh's capabilties we are using [SimModeler](http://www.simmetrix.com/index.php/simmodeler/overview), a software that is free for acaedmic users. \n",
    "The neccesary steps include:\n",
    "1. Creating a high resolution topography and bathymetry free surface and merge it with a simple 3D volume (e.g. a box);\n",
    "2. Creating the complex fault network constrained by fault traces and varying fault dip and intersect with topo-bathymetry;\n",
    "3. Automatic volumetric meshing using unstructured tetrahedral elements. Keep in mind resolution criteria: the CFL criterion for wave propagation, and the dynamic rutpure process zone, the region behind the rupture front where the fault strength drops from its static to dynamic level (Day et al., 2005; for SeisSol: [Wollherr et al., 2018](https://academic.oup.com/gji/article/214/3/1556/5017447?login=true)).\n",
    "\n",
    "We recorded two non-narrated demos of these steps for the Palu, Sulawesi model, which are available [here](https://drive.google.com/file/d/1Y3mTAoPTAyUMdXfTzW_Ap62u4EpJM0Zf/view?usp=sharing) and [here](https://drive.google.com/file/d/1ts3QZCWUeHMwB3ZEhUpV-CmNcG-4Vwj8/view?usp=sharing).\n",
    "\n",
    "For the sake of time we here provide a coarse mesh file and merely visualize it. The prescribed resolution here is 800 m element edge length everywhere on the fault, and rapid static coarsening away from the fault system. This mesh has ~215k elements. The high-resolution mesh for comparison consists of 8 million elements, decreasing the shortest element edge lengths to 200 m close to faults."
   ]
  },
  {
   "cell_type": "code",
   "execution_count": null,
   "metadata": {},
   "outputs": [],
   "source": [
    "import vtk\n",
    "import pyvista as pv\n",
    "\n",
    "reader = vtk.vtkXdmfReader()\n",
    "reader.SetFileName('Sulawesi_65dip_straightBay_ShortNorth_micro.xdmf')\n",
    "reader.Update()\n",
    "mesh = pv.wrap(reader.GetOutput())\n",
    "elevation = mesh.elevation(low_point=(0, 0, -800), high_point=(0, 0, 2970))\n",
    "pv.plot(elevation, cmap='terrain', background='grey', show_edges=False, jupyter_backend='static')"
   ]
  },
  {
   "cell_type": "markdown",
   "metadata": {},
   "source": [
    "## Run the code"
   ]
  },
  {
   "cell_type": "markdown",
   "metadata": {},
   "source": [
    "In the following we start SeisSol using the provided parameters file. Note, that we combine two 3D heterogeneous subsurfave velocity data sets using [ASAGI](https://seissol.readthedocs.io/en/latest/asagi.html), our open source software for effecient reading, interpolation and writing of parallel, adaptive geoinformation ([Rettenberger et al., 2016](http://dl.acm.org/citation.cfm?id=2938618)).\n",
    "\n",
    "This is how the high-resolution rupture looks like:\n",
    "![](Ulrich19_Fig3.png)\n",
    "*a) Snapshot of the wavefield (absolute particle velocity in m/s) and the slip rate (in m/s) across the fault network at a rupture time of 15 s. b) Overview of the simulated rupture propagation. Snapshots of the absolute slip rate are shown at a rupture time of 2, 9, 13, 23 and 28 s. Labels indicate noteworthy features of the rupture*\n",
    "\n",
    "\n",
    "\n",
    "You should adjust the OMP_NUM_THREADS variable to match the number of cores on your PC. This simulation will run for some time. In case of trouble try allowing more RAM (ideally 5-8 GB) in the settings of docker.\n",
    "\n",
    "Note: this model, including fast velocity weakening friction, will run faster if compiled with a commercial compiler such as intel. as available on clusters. We believe SeisSol's current rate & state implementation is slow when compiled with the gnu compiler, and suspect that the auto-vectorization of the math functions does not work very well with gcc.\n"
   ]
  },
  {
   "cell_type": "code",
   "execution_count": null,
   "metadata": {},
   "outputs": [],
   "source": [
    "!OMP_NUM_THREADS=4 SeisSol_Release_dhsw_4_elastic parameters.par"
   ]
  },
  {
   "cell_type": "markdown",
   "metadata": {},
   "source": [
    "## Visualization"
   ]
  },
  {
   "cell_type": "markdown",
   "metadata": {},
   "source": [
    "We now visualize the fault output generated by SeisSol. This visualises all processes occuring across the fault surface during dynamic rupture, e.g. slip rates, slip, shear and normal stresses, effective friction etc.\n",
    "\n",
    "Check out the [documentation](https://seissol.readthedocs.io/en/latest/fault-output.html#outputmask) for an explanation of the variable names."
   ]
  },
  {
   "cell_type": "code",
   "execution_count": null,
   "metadata": {
    "scrolled": false
   },
   "outputs": [],
   "source": [
    "import vtk\n",
    "import pyvista as pv\n",
    "from ipywidgets import interact\n",
    "\n",
    "reader = vtk.vtkXdmfReader()\n",
    "reader.SetFileName('output/Sulawesi-fault.xdmf')\n",
    "reader.Update()\n",
    "cd = reader.GetOutput().GetCellData()\n",
    "variables = [cd.GetArrayName(i) for i in range(cd.GetNumberOfArrays())]\n",
    "\n",
    "@interact(t=(0.0, 30.0, 0.5), var=variables)\n",
    "def plot(t=0.0, var='SRs'):\n",
    "    reader.UpdateTimeStep(t)\n",
    "    mesh = pv.wrap(reader.GetOutput())\n",
    "    plotter = pv.Plotter(notebook=True)\n",
    "    plotter.set_background('grey')\n",
    "    plotter.add_mesh(mesh, cmap='Blues', scalars=var)\n",
    "    plotter.show(jupyter_backend='static')"
   ]
  },
  {
   "cell_type": "markdown",
   "metadata": {},
   "source": [
    "In the following we visualize the free surface output.\n",
    "Fields *u, v, w* are the particle velocities and *U, V, W* are the displacements in *x, y, z* direction, respectively."
   ]
  },
  {
   "cell_type": "code",
   "execution_count": null,
   "metadata": {},
   "outputs": [],
   "source": [
    "reader = vtk.vtkXdmfReader()\n",
    "reader.SetFileName('output/Sulawesi-surface.xdmf')\n",
    "reader.Update()\n",
    "cd = reader.GetOutput().GetCellData()\n",
    "variables = [cd.GetArrayName(i) for i in range(cd.GetNumberOfArrays())]\n",
    "\n",
    "@interact(t=(0.0, 30.0, 0.25), var=variables)\n",
    "def plot(t=0.0, var='W'):\n",
    "    reader.UpdateTimeStep(t)\n",
    "    mesh = pv.wrap(reader.GetOutput())\n",
    "    plotter = pv.Plotter(notebook=True)\n",
    "    plotter.set_background('grey')\n",
    "    plotter.add_mesh(mesh, cmap='Blues', scalars=var)\n",
    "    plotter.show(jupyter_backend='static')"
   ]
  }
 ],
 "metadata": {
  "kernelspec": {
   "display_name": "Python 3",
   "language": "python",
   "name": "python3"
  },
  "language_info": {
   "codemirror_mode": {
    "name": "ipython",
    "version": 3
   },
   "file_extension": ".py",
   "mimetype": "text/x-python",
   "name": "python",
   "nbconvert_exporter": "python",
   "pygments_lexer": "ipython3",
   "version": "3.7.3"
  }
 },
 "nbformat": 4,
 "nbformat_minor": 5
}
