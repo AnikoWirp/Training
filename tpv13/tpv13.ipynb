{
 "cells": [
  {
   "cell_type": "markdown",
   "id": "a03dd8cd-ea64-436a-801c-e05bb66cb848",
   "metadata": {},
   "source": [
    "# Training example TPV 13\n",
    "\n",
    "TPV 13-3D is a benchmark exercise that is designed to test if computer codes that simulate dynamic earthquake rupture are working as intended (Harris et al., SRL 2018).", 
    "It was designed by the [SCEC/USGS Spontaneous Rupture Code Verification Project](https://strike.scec.org/cvws/) and features:",
    "* spontaneous rupture on a 2D planar 60-degree dipping normal fault  \n",
    "* homogeneous half-space: $V_p=5716\\,m/s, V_s=3300\\,m/s, \\rho=2700\\,kg/m^3$\n",
    "* non-associative Drucker-Prager plasticity with yielding in shear\n",
    "* an initial stress tensor specified everywhere throughout the entire model volume\n"
    "* linear-slip weakening friction (LSW)\n",
    "* strongly supershear rupture conditions \n",
    "* prescribed nucleation zone: square, 1.5 km size, locally lower static coefficient of friction\n",
    "\n",
    "![](tpv13.jpg)\n",
    "\n",
    "[Detailed benchmark description (SCEC)](https://strike.scec.org/cvws/tpv12_13docs.html)"
   ]
  },
  {
   "cell_type": "markdown",
   "id": "fa975b16-e79a-4aa0-81c7-6bf5395b3ba9",
   "metadata": {},
   "source": [
    "## Mesh generation\n",
    "\n",
    "We use Gmsh for mesh generation. The following steps are required:\n",
    "\n",
    "* Create a domain (box)\n",
    "* Create a 60° dipping fault plane\n",
    "* Create the nucleation patch\n",
    "* Set boundary conditions\n",
    "\n",
    "Gmsh comes with its own scripting language with which one can describe the geometry passed to the automatic mesh generator.\n",
    "We provide the script tpv13_training.geo and are going to generate a mesh in the next step."
   ]
  },
  {
   "cell_type": "code",
   "execution_count": null,
   "id": "personal-container",
   "metadata": {},
   "outputs": [],
   "source": [
    "!gmsh -3 tpv13_training.geo"
   ]
  },
  {
   "cell_type": "markdown",
   "id": "010d3f7e-3e75-45cb-a2f1-95a50543e427",
   "metadata": {},
   "source": [
    "You should now have a file called \"tpv13_training.msh\".\n",
    "In the next step, we translate this file into the efficient HDF5 format, which is going to be read in by SeisSol."
   ]
  },
  {
   "cell_type": "code",
   "execution_count": null,
   "id": "a222b790-dc8e-47ca-a047-821fad5f0699",
   "metadata": {},
   "outputs": [],
   "source": [
    "!pumgen -s msh2 tpv13_training.msh"
   ]
  },
  {
   "cell_type": "markdown",
   "id": "21afef40-0a5a-4cd3-af9f-8ce6a90c2951",
   "metadata": {},
   "source": [
    "The files \"tpv13_training.puml.h5\" and \"tpv13_training.xdmf\" were created.\n",
    "While the .h5 file is read by SeisSol, the .xdmf file can be used to visualize the mesh, as in the following."
   ]
  },
  {
   "cell_type": "code",
   "execution_count": null,
   "id": "8d932866-bd4d-490e-806b-fc8c6cb0fcdc",
   "metadata": {},
   "outputs": [],
   "source": [
    "import vtk\n",
    "import pyvista as pv\n",
    "\n",
    "reader = vtk.vtkXdmfReader()\n",
    "reader.SetFileName('tpv13_training.xdmf')\n",
    "reader.Update()\n",
    "mesh = pv.wrap(reader.GetOutput())\n",
    "pv.plot(mesh, cmap='BuGn', background='white', show_edges=True, jupyter_backend='panel')"
   ]
  },
  {
   "cell_type": "markdown",
   "id": "27cd2a61-def9-45da-8fc3-10ab0efa9a6b",
   "metadata": {},
   "source": [
    "Note that the mesh is refined close to the fault."
   ]
  },
  {
   "cell_type": "markdown",
   "id": "d15ac4fe-8cbf-47b9-a0bd-62cf4cfd7051",
   "metadata": {},
   "source": [
    "### Exercises\n",
    "* Inspect the tpv13_training.geo file and try to comprehend the steps. Consult the [Gmsh documentation](https://gmsh.info/doc/texinfo/gmsh.html) about the BooleanFragments operation.\n",
    "* Create a finer resolved mesh by adjusting the h_fault parameter. Do not change the .geo file but use the [*-setnumber*](https://gmsh.info/doc/texinfo/gmsh.html#Command_002dline-options) argument of the *gmsh* command."
   ]
  },
  {
   "cell_type": "markdown",
   "id": "214d76e2-9895-4f55-b679-ac029eed59b6",
   "metadata": {},
   "source": [
    "## Run the code"
   ]
  },
  {
   "cell_type": "markdown",
   "id": "a6b110b9-452a-4d88-b236-fadcb738d5cd",
   "metadata": {},
   "source": [
    "In the following we start SeisSol using the provided parameters file.\n",
    "You should adjust the OMP_NUM_THREADS variable to match the number of cores on your PC."
   ]
  },
  {
   "cell_type": "code",
   "execution_count": null,
   "id": "single-camping",
   "metadata": {},
   "outputs": [],
   "source": [
    "!OMP_NUM_THREADS=4 SeisSol_Release_dhsw_4_elastic parameters.par"
   ]
  },
  {
   "cell_type": "markdown",
   "id": "9f657711-ca2c-4a4d-8de8-ddfcb433718c",
   "metadata": {},
   "source": [
    "While SeisSol is running, you might want to checkout the [documentation of the input files](https://seissol.readthedocs.io/en/latest/parameter-file.html)."
   ]
  },
  {
   "cell_type": "markdown",
   "id": "a6c1ed6b-ea4d-4925-8965-c7c40f02b482",
   "metadata": {},
   "source": [
    "## Visualization"
   ]
  },
  {
   "cell_type": "markdown",
   "id": "45a6fe15-aea3-429c-a677-c416063cdbf9",
   "metadata": {},
   "source": [
    "We now visualize the fault output generated by SeisSol.\n",
    "Check out the [documentation](https://seissol.readthedocs.io/en/latest/fault-output.html#outputmask) for an explanation of the variable names."
   ]
  },
  {
   "cell_type": "code",
   "execution_count": null,
   "id": "fe2fddbe-6ec4-4eab-a17e-e3c27c80a000",
   "metadata": {},
   "outputs": [],
   "source": [
    "from ipywidgets import interact\n",
    "\n",
    "reader = vtk.vtkXdmfReader()\n",
    "reader.SetFileName('output/tpv13-fault.xdmf')\n",
    "reader.Update()\n",
    "cd = reader.GetOutput().GetCellData()\n",
    "variables = [cd.GetArrayName(i) for i in range(cd.GetNumberOfArrays())]\n",
    "\n",
    "@interact(t=(0.0, 8.0, 1.0), var=variables)\n",
    "def plot(t=0.0, var='SRd'):\n",
    "    reader.UpdateTimeStep(t)\n",
    "    mesh = pv.wrap(reader.GetOutput())\n",
    "    plotter = pv.Plotter(notebook=True)\n",
    "    plotter.set_background('white')\n",
    "    plotter.add_mesh(mesh, cmap='Blues', scalars=var)\n",
    "    plotter.view_xz()\n",
    "    plotter.show(jupyter_backend='panel')"
   ]
  },
  {
   "cell_type": "markdown",
   "id": "99c25ccd",
   "metadata": {},
   "source": [
    "# Local-time stepping exercises"
   ]
  },
  {
   "cell_type": "markdown",
   "id": "88d7279e",
   "metadata": {},
   "source": [
    "Time-step cluster $c \\in \\mathbb{N}_0$ has the time-step\n",
    "$$\\Delta t_c = r^c \\Delta t_{\\text{min}},$$\n",
    "where the rate $r \\in \\mathbb{N}$. In the parameter file the rate $r$ can be set with the *ClusteredLTS* parameter.\n",
    "\n",
    "* Run SeisSol once with rate-2 local time-stepping (LTS) and once with global time-stepping (GTS).\n",
    "* In the log, look for \"Elapsed time (via clock_gettime)\" for both LTS and GTS.\n",
    "* Compute the speed-up and compare it to the theoretical speed-up due to LTS.\n",
    "\n",
    "*Hint:* You may reduce the *EndTime* parameter for this exercise."
   ]
  }
 ],
 "metadata": {
  "kernelspec": {
   "display_name": "Python 3",
   "language": "python",
   "name": "python3"
  },
  "language_info": {
   "codemirror_mode": {
    "name": "ipython",
    "version": 3
   },
   "file_extension": ".py",
   "mimetype": "text/x-python",
   "name": "python",
   "nbconvert_exporter": "python",
   "pygments_lexer": "ipython3",
   "version": "3.7.3"
  }
 },
 "nbformat": 4,
 "nbformat_minor": 5
}
